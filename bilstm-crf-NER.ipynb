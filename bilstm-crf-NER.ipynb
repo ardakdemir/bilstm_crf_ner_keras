{
 "cells": [
  {
   "cell_type": "code",
   "execution_count": 4,
   "metadata": {},
   "outputs": [
    {
     "name": "stderr",
     "output_type": "stream",
     "text": [
      "Using TensorFlow backend.\n"
     ]
    }
   ],
   "source": [
    "import keras"
   ]
  },
  {
   "cell_type": "code",
   "execution_count": 5,
   "metadata": {},
   "outputs": [],
   "source": [
    "from numpy import array\n",
    "from numpy import asarray\n",
    "from numpy import zeros\n",
    "from keras.preprocessing.text import Tokenizer\n",
    "from keras.preprocessing.sequence import pad_sequences\n",
    "from keras.models import Sequential\n",
    "from keras.layers import Dense\n",
    "from keras.layers import Flatten\n",
    "from keras.layers import Embedding"
   ]
  },
  {
   "cell_type": "code",
   "execution_count": 6,
   "metadata": {},
   "outputs": [],
   "source": [
    "w2v_file = \"../../Lab_sems/glove.6B.300d.txt\"\n",
    "def get_w2v(file_name):\n",
    "    w2v_dict = {}\n",
    "    f = open(file_name).readlines()\n",
    "    for line in f:\n",
    "        ls = line.split()\n",
    "        word = ls[0]\n",
    "        coefs = asarray(ls[1:], dtype='float32')\n",
    "        w2v_dict[word] = coefs \n",
    "    return w2v_dict"
   ]
  },
  {
   "cell_type": "code",
   "execution_count": 7,
   "metadata": {},
   "outputs": [],
   "source": [
    "w2v_dict = get_w2v(w2v_file)"
   ]
  },
  {
   "cell_type": "code",
   "execution_count": 26,
   "metadata": {},
   "outputs": [],
   "source": [
    "def get_sents(filename):\n",
    "    f = open(filename).readlines()\n",
    "    sents = []\n",
    "    tags = []\n",
    "    sent = []\n",
    "    tags_ = []\n",
    "    tag_set = set()\n",
    "    max_len = 0\n",
    "    for line in f[1:]:\n",
    "        if line == \"\\n\":\n",
    "            continue\n",
    "        if \"SAMPLE_START\" in line or \"[SEP]\" in line:\n",
    "            sents.append(sent)\n",
    "            tags.append(tags_)\n",
    "            if len(sent)> max_len:\n",
    "                max_len = len(sent)\n",
    "            sent = []\n",
    "            tags_ = []\n",
    "        else:\n",
    "            ls = line.split()\n",
    "            sent.append(ls[0])\n",
    "            tags_.append(ls[-1])\n",
    "            tag_set.add(ls[-1])\n",
    "    if len(sent) > 0:\n",
    "        sents.append(sent)\n",
    "        tags.append(tags_)\n",
    "    return sents,tags,tag_set,max_len\n",
    "def arr_to_str(arr):\n",
    "    return \" \".join([x for x in arr])\n",
    "def idx_to_arr(idx_arr,vocab):\n",
    "    arr = []\n",
    "    for idx in idx_arr:\n",
    "        arr.append(vocab[idx-1])\n",
    "    return arr\n",
    "get_sents2 = lambda sents : [arr_to_str(sent) for sent in sents]"
   ]
  },
  {
   "cell_type": "code",
   "execution_count": 9,
   "metadata": {},
   "outputs": [],
   "source": [
    "train_file = \"train.txt\"\n",
    "dev_file = \"dev.txt\"\n",
    "test_file = \"test.txt\"\n",
    "train_sents,train_tags,train_tag_set, train_max_len = get_sents(train_file)\n",
    "dev_sents,dev_tags,dev_tag_set, dev_max_len = get_sents(dev_file)\n",
    "#dev_sents2 = get_sents2(dev_sents)\n",
    "train_max_len = max(train_max_len,dev_max_len)\n",
    "for sent,tag in zip(dev_sents,dev_tags):\n",
    "    train_sents.append(sent)\n",
    "    train_tags.append(tag)\n",
    "    \n",
    "train_tag_set.union(dev_tag_set)\n",
    "vocab = set()\n"
   ]
  },
  {
   "cell_type": "code",
   "execution_count": 10,
   "metadata": {},
   "outputs": [
    {
     "data": {
      "text/plain": [
       "{'B-etime',\n",
       " 'B-fname',\n",
       " 'B-loc',\n",
       " 'B-organizer',\n",
       " 'B-participant',\n",
       " 'B-place',\n",
       " 'B-target',\n",
       " 'B-trigger',\n",
       " 'I-etime',\n",
       " 'I-fname',\n",
       " 'I-loc',\n",
       " 'I-organizer',\n",
       " 'I-participant',\n",
       " 'I-place',\n",
       " 'I-target',\n",
       " 'I-trigger',\n",
       " 'O'}"
      ]
     },
     "execution_count": 10,
     "metadata": {},
     "output_type": "execute_result"
    }
   ],
   "source": [
    "train_tag_set"
   ]
  },
  {
   "cell_type": "code",
   "execution_count": 11,
   "metadata": {},
   "outputs": [
    {
     "data": {
      "text/plain": [
       "107"
      ]
     },
     "execution_count": 11,
     "metadata": {},
     "output_type": "execute_result"
    }
   ],
   "source": [
    "train_max_len"
   ]
  },
  {
   "cell_type": "code",
   "execution_count": 12,
   "metadata": {},
   "outputs": [],
   "source": [
    "for sent in train_sents:\n",
    "    for word in sent:\n",
    "        vocab.add(word)\n",
    "vocab = list(vocab)\n",
    "vocab.append(\"ENDPAD\")"
   ]
  },
  {
   "cell_type": "code",
   "execution_count": 13,
   "metadata": {},
   "outputs": [],
   "source": [
    "word2idx = {w: i + 1 for i, w in enumerate(vocab)}\n",
    "tag2idx = {t: i for i, t in enumerate(train_tag_set)}"
   ]
  },
  {
   "cell_type": "code",
   "execution_count": 34,
   "metadata": {},
   "outputs": [
    {
     "ename": "AttributeError",
     "evalue": "module 'string' has no attribute 'alphabet'",
     "output_type": "error",
     "traceback": [
      "\u001b[0;31m---------------------------------------------------------------------------\u001b[0m",
      "\u001b[0;31mAttributeError\u001b[0m                            Traceback (most recent call last)",
      "\u001b[0;32m<ipython-input-34-e018649a0fc3>\u001b[0m in \u001b[0;36m<module>\u001b[0;34m\u001b[0m\n\u001b[1;32m      1\u001b[0m \u001b[0;32mimport\u001b[0m \u001b[0mstring\u001b[0m\u001b[0;34m\u001b[0m\u001b[0;34m\u001b[0m\u001b[0m\n\u001b[0;32m----> 2\u001b[0;31m \u001b[0mstring\u001b[0m\u001b[0;34m.\u001b[0m\u001b[0malphabet\u001b[0m\u001b[0;34m\u001b[0m\u001b[0;34m\u001b[0m\u001b[0m\n\u001b[0m",
      "\u001b[0;31mAttributeError\u001b[0m: module 'string' has no attribute 'alphabet'"
     ]
    }
   ],
   "source": [
    "import string\n",
    "string.alphabet"
   ]
  },
  {
   "cell_type": "code",
   "execution_count": 14,
   "metadata": {},
   "outputs": [],
   "source": [
    "X = [[word2idx[x] for x in sent] for sent in train_sents]\n",
    "Y = [[tag2idx[x]  for x in tag] for tag in train_tags]"
   ]
  },
  {
   "cell_type": "code",
   "execution_count": 32,
   "metadata": {},
   "outputs": [
    {
     "name": "stdout",
     "output_type": "stream",
     "text": [
      "KRISHNAGIRI O O\n",
      "/ O O\n",
      "DHARMAPURI O O\n",
      ": O O\n",
      "Water O O\n",
      "supply O O\n",
      "disrupted O O\n",
      ", O O\n",
      "villagers B-participant B-participant\n",
      "block B-trigger B-trigger\n",
      "road B-loc B-loc\n",
      "September O O\n",
      "04 O O\n",
      ", O O\n",
      "2014 O O\n",
      "00:00 O O\n",
      "IST O O\n",
      "Officials O O\n",
      "promise O O\n",
      "to O O\n",
      "supply O O\n",
      "water O O\n",
      "in O O\n",
      "tankers O O\n",
      "Women B-participant B-participant\n",
      "took B-trigger B-trigger\n",
      "to I-trigger I-trigger\n",
      "streets I-trigger I-trigger\n",
      "carrying O O\n",
      "pots O O\n",
      "in O O\n",
      "protest O O\n",
      "against O O\n",
      "erratic O O\n",
      "supply O O\n",
      "of O O\n",
      "drinking O O\n",
      "water O O\n",
      "at O O\n",
      "Kelamagalam B-place B-place\n",
      "in O O\n",
      "Udhanapalli B-place B-place\n",
      "on B-etime B-etime\n",
      "Wednesday I-etime I-etime\n",
      ". O O\n"
     ]
    }
   ],
   "source": [
    "for w,x,y in zip(X[0],train_tags[0],Y[0]):\n",
    "    print(vocab[w-1],x,list(train_tag_set)[y])"
   ]
  },
  {
   "cell_type": "code",
   "execution_count": 27,
   "metadata": {},
   "outputs": [
    {
     "data": {
      "text/plain": [
       "['KRISHNAGIRI',\n",
       " '/',\n",
       " 'DHARMAPURI',\n",
       " ':',\n",
       " 'Water',\n",
       " 'supply',\n",
       " 'disrupted',\n",
       " ',',\n",
       " 'villagers',\n",
       " 'block',\n",
       " 'road',\n",
       " 'September',\n",
       " '04',\n",
       " ',',\n",
       " '2014',\n",
       " '00:00',\n",
       " 'IST',\n",
       " 'Officials',\n",
       " 'promise',\n",
       " 'to',\n",
       " 'supply',\n",
       " 'water',\n",
       " 'in',\n",
       " 'tankers',\n",
       " 'Women',\n",
       " 'took',\n",
       " 'to',\n",
       " 'streets',\n",
       " 'carrying',\n",
       " 'pots',\n",
       " 'in',\n",
       " 'protest',\n",
       " 'against',\n",
       " 'erratic',\n",
       " 'supply',\n",
       " 'of',\n",
       " 'drinking',\n",
       " 'water',\n",
       " 'at',\n",
       " 'Kelamagalam',\n",
       " 'in',\n",
       " 'Udhanapalli',\n",
       " 'on',\n",
       " 'Wednesday',\n",
       " '.',\n",
       " 'external',\n",
       " 'external',\n",
       " 'external',\n",
       " 'external',\n",
       " 'external',\n",
       " 'external',\n",
       " 'external',\n",
       " 'external',\n",
       " 'external',\n",
       " 'external',\n",
       " 'external',\n",
       " 'external',\n",
       " 'external',\n",
       " 'external',\n",
       " 'external',\n",
       " 'external',\n",
       " 'external',\n",
       " 'external',\n",
       " 'external',\n",
       " 'external',\n",
       " 'external',\n",
       " 'external',\n",
       " 'external',\n",
       " 'external',\n",
       " 'external',\n",
       " 'external',\n",
       " 'external',\n",
       " 'external',\n",
       " 'external',\n",
       " 'external',\n",
       " 'external',\n",
       " 'external',\n",
       " 'external',\n",
       " 'external',\n",
       " 'external',\n",
       " 'external',\n",
       " 'external',\n",
       " 'external',\n",
       " 'external',\n",
       " 'external',\n",
       " 'external',\n",
       " 'external',\n",
       " 'external',\n",
       " 'external',\n",
       " 'external',\n",
       " 'external',\n",
       " 'external',\n",
       " 'external',\n",
       " 'external',\n",
       " 'external',\n",
       " 'external',\n",
       " 'external',\n",
       " 'external',\n",
       " 'external',\n",
       " 'external',\n",
       " 'external',\n",
       " 'external',\n",
       " 'external',\n",
       " 'external',\n",
       " 'external',\n",
       " 'external',\n",
       " 'external']"
      ]
     },
     "execution_count": 27,
     "metadata": {},
     "output_type": "execute_result"
    }
   ],
   "source": [
    "idx_to_arr(X[0],vocab)"
   ]
  },
  {
   "cell_type": "code",
   "execution_count": 16,
   "metadata": {},
   "outputs": [],
   "source": [
    "X = pad_sequences(maxlen=train_max_len, sequences=X, padding=\"post\", value=len(vocab)-1)\n",
    "Y = pad_sequences(maxlen=train_max_len, sequences=Y, padding=\"post\", value=tag2idx[\"O\"])\n"
   ]
  },
  {
   "cell_type": "code",
   "execution_count": 17,
   "metadata": {},
   "outputs": [
    {
     "data": {
      "text/plain": [
       "array([ 496, 2058, 4610, 3465,   18, 4319, 5254, 3422, 2062, 5598, 3409,\n",
       "         91, 4716, 3422, 4321, 1817, 4564, 2086, 1101,  736, 4319, 2634,\n",
       "        673, 5453,   64, 4169,  736,  172, 1243, 1877,  673, 1967, 1616,\n",
       "       2255, 4319,  519,   57, 2634, 5716, 1594,  673, 1845, 1598, 2923,\n",
       "       4453, 5862, 5862, 5862, 5862, 5862, 5862, 5862, 5862, 5862, 5862,\n",
       "       5862, 5862, 5862, 5862, 5862, 5862, 5862, 5862, 5862, 5862, 5862,\n",
       "       5862, 5862, 5862, 5862, 5862, 5862, 5862, 5862, 5862, 5862, 5862,\n",
       "       5862, 5862, 5862, 5862, 5862, 5862, 5862, 5862, 5862, 5862, 5862,\n",
       "       5862, 5862, 5862, 5862, 5862, 5862, 5862, 5862, 5862, 5862, 5862,\n",
       "       5862, 5862, 5862, 5862, 5862, 5862, 5862, 5862], dtype=int32)"
      ]
     },
     "execution_count": 17,
     "metadata": {},
     "output_type": "execute_result"
    }
   ],
   "source": [
    "X[0]"
   ]
  },
  {
   "cell_type": "code",
   "execution_count": 67,
   "metadata": {},
   "outputs": [
    {
     "ename": "AttributeError",
     "evalue": "module 'tensorflow' has no attribute 'get_default_graph'",
     "output_type": "error",
     "traceback": [
      "\u001b[0;31m---------------------------------------------------------------------------\u001b[0m",
      "\u001b[0;31mAttributeError\u001b[0m                            Traceback (most recent call last)",
      "\u001b[0;32m<ipython-input-67-c247fbf63c55>\u001b[0m in \u001b[0;36m<module>\u001b[0;34m\u001b[0m\n\u001b[1;32m      4\u001b[0m     \u001b[0;32mif\u001b[0m \u001b[0mvec\u001b[0m \u001b[0;32mis\u001b[0m \u001b[0;32mnot\u001b[0m \u001b[0;32mNone\u001b[0m\u001b[0;34m:\u001b[0m\u001b[0;34m\u001b[0m\u001b[0;34m\u001b[0m\u001b[0m\n\u001b[1;32m      5\u001b[0m         \u001b[0membedding_matrix\u001b[0m\u001b[0;34m[\u001b[0m\u001b[0mi\u001b[0m\u001b[0;34m]\u001b[0m \u001b[0;34m=\u001b[0m \u001b[0mvec\u001b[0m\u001b[0;34m\u001b[0m\u001b[0;34m\u001b[0m\u001b[0m\n\u001b[0;32m----> 6\u001b[0;31m \u001b[0me\u001b[0m \u001b[0;34m=\u001b[0m \u001b[0mEmbedding\u001b[0m\u001b[0;34m(\u001b[0m\u001b[0mlen\u001b[0m\u001b[0;34m(\u001b[0m\u001b[0mvocab\u001b[0m\u001b[0;34m)\u001b[0m\u001b[0;34m,\u001b[0m \u001b[0;36m100\u001b[0m\u001b[0;34m,\u001b[0m \u001b[0mweights\u001b[0m\u001b[0;34m=\u001b[0m\u001b[0;34m[\u001b[0m\u001b[0membedding_matrix\u001b[0m\u001b[0;34m]\u001b[0m\u001b[0;34m,\u001b[0m \u001b[0minput_length\u001b[0m\u001b[0;34m=\u001b[0m\u001b[0;36m4\u001b[0m\u001b[0;34m,\u001b[0m \u001b[0mtrainable\u001b[0m\u001b[0;34m=\u001b[0m\u001b[0;32mFalse\u001b[0m\u001b[0;34m)\u001b[0m\u001b[0;34m\u001b[0m\u001b[0;34m\u001b[0m\u001b[0m\n\u001b[0m",
      "\u001b[0;32m~/anaconda3/lib/python3.7/site-packages/keras/legacy/interfaces.py\u001b[0m in \u001b[0;36mwrapper\u001b[0;34m(*args, **kwargs)\u001b[0m\n\u001b[1;32m     89\u001b[0m                 warnings.warn('Update your `' + object_name + '` call to the ' +\n\u001b[1;32m     90\u001b[0m                               'Keras 2 API: ' + signature, stacklevel=2)\n\u001b[0;32m---> 91\u001b[0;31m             \u001b[0;32mreturn\u001b[0m \u001b[0mfunc\u001b[0m\u001b[0;34m(\u001b[0m\u001b[0;34m*\u001b[0m\u001b[0margs\u001b[0m\u001b[0;34m,\u001b[0m \u001b[0;34m**\u001b[0m\u001b[0mkwargs\u001b[0m\u001b[0;34m)\u001b[0m\u001b[0;34m\u001b[0m\u001b[0;34m\u001b[0m\u001b[0m\n\u001b[0m\u001b[1;32m     92\u001b[0m         \u001b[0mwrapper\u001b[0m\u001b[0;34m.\u001b[0m\u001b[0m_original_function\u001b[0m \u001b[0;34m=\u001b[0m \u001b[0mfunc\u001b[0m\u001b[0;34m\u001b[0m\u001b[0;34m\u001b[0m\u001b[0m\n\u001b[1;32m     93\u001b[0m         \u001b[0;32mreturn\u001b[0m \u001b[0mwrapper\u001b[0m\u001b[0;34m\u001b[0m\u001b[0;34m\u001b[0m\u001b[0m\n",
      "\u001b[0;32m~/anaconda3/lib/python3.7/site-packages/keras/layers/embeddings.py\u001b[0m in \u001b[0;36m__init__\u001b[0;34m(self, input_dim, output_dim, embeddings_initializer, embeddings_regularizer, activity_regularizer, embeddings_constraint, mask_zero, input_length, **kwargs)\u001b[0m\n\u001b[1;32m     88\u001b[0m             \u001b[0;32melse\u001b[0m\u001b[0;34m:\u001b[0m\u001b[0;34m\u001b[0m\u001b[0;34m\u001b[0m\u001b[0m\n\u001b[1;32m     89\u001b[0m                 \u001b[0mkwargs\u001b[0m\u001b[0;34m[\u001b[0m\u001b[0;34m'input_shape'\u001b[0m\u001b[0;34m]\u001b[0m \u001b[0;34m=\u001b[0m \u001b[0;34m(\u001b[0m\u001b[0;32mNone\u001b[0m\u001b[0;34m,\u001b[0m\u001b[0;34m)\u001b[0m\u001b[0;34m\u001b[0m\u001b[0;34m\u001b[0m\u001b[0m\n\u001b[0;32m---> 90\u001b[0;31m         \u001b[0msuper\u001b[0m\u001b[0;34m(\u001b[0m\u001b[0mEmbedding\u001b[0m\u001b[0;34m,\u001b[0m \u001b[0mself\u001b[0m\u001b[0;34m)\u001b[0m\u001b[0;34m.\u001b[0m\u001b[0m__init__\u001b[0m\u001b[0;34m(\u001b[0m\u001b[0;34m**\u001b[0m\u001b[0mkwargs\u001b[0m\u001b[0;34m)\u001b[0m\u001b[0;34m\u001b[0m\u001b[0;34m\u001b[0m\u001b[0m\n\u001b[0m\u001b[1;32m     91\u001b[0m \u001b[0;34m\u001b[0m\u001b[0m\n\u001b[1;32m     92\u001b[0m         \u001b[0mself\u001b[0m\u001b[0;34m.\u001b[0m\u001b[0minput_dim\u001b[0m \u001b[0;34m=\u001b[0m \u001b[0minput_dim\u001b[0m\u001b[0;34m\u001b[0m\u001b[0;34m\u001b[0m\u001b[0m\n",
      "\u001b[0;32m~/anaconda3/lib/python3.7/site-packages/keras/engine/base_layer.py\u001b[0m in \u001b[0;36m__init__\u001b[0;34m(self, **kwargs)\u001b[0m\n\u001b[1;32m    130\u001b[0m         \u001b[0;32mif\u001b[0m \u001b[0;32mnot\u001b[0m \u001b[0mname\u001b[0m\u001b[0;34m:\u001b[0m\u001b[0;34m\u001b[0m\u001b[0;34m\u001b[0m\u001b[0m\n\u001b[1;32m    131\u001b[0m             \u001b[0mprefix\u001b[0m \u001b[0;34m=\u001b[0m \u001b[0mself\u001b[0m\u001b[0;34m.\u001b[0m\u001b[0m__class__\u001b[0m\u001b[0;34m.\u001b[0m\u001b[0m__name__\u001b[0m\u001b[0;34m\u001b[0m\u001b[0;34m\u001b[0m\u001b[0m\n\u001b[0;32m--> 132\u001b[0;31m             \u001b[0mname\u001b[0m \u001b[0;34m=\u001b[0m \u001b[0m_to_snake_case\u001b[0m\u001b[0;34m(\u001b[0m\u001b[0mprefix\u001b[0m\u001b[0;34m)\u001b[0m \u001b[0;34m+\u001b[0m \u001b[0;34m'_'\u001b[0m \u001b[0;34m+\u001b[0m \u001b[0mstr\u001b[0m\u001b[0;34m(\u001b[0m\u001b[0mK\u001b[0m\u001b[0;34m.\u001b[0m\u001b[0mget_uid\u001b[0m\u001b[0;34m(\u001b[0m\u001b[0mprefix\u001b[0m\u001b[0;34m)\u001b[0m\u001b[0;34m)\u001b[0m\u001b[0;34m\u001b[0m\u001b[0;34m\u001b[0m\u001b[0m\n\u001b[0m\u001b[1;32m    133\u001b[0m         \u001b[0mself\u001b[0m\u001b[0;34m.\u001b[0m\u001b[0mname\u001b[0m \u001b[0;34m=\u001b[0m \u001b[0mname\u001b[0m\u001b[0;34m\u001b[0m\u001b[0;34m\u001b[0m\u001b[0m\n\u001b[1;32m    134\u001b[0m \u001b[0;34m\u001b[0m\u001b[0m\n",
      "\u001b[0;32m~/anaconda3/lib/python3.7/site-packages/keras/backend/tensorflow_backend.py\u001b[0m in \u001b[0;36mget_uid\u001b[0;34m(prefix)\u001b[0m\n\u001b[1;32m     72\u001b[0m     \"\"\"\n\u001b[1;32m     73\u001b[0m     \u001b[0;32mglobal\u001b[0m \u001b[0m_GRAPH_UID_DICTS\u001b[0m\u001b[0;34m\u001b[0m\u001b[0;34m\u001b[0m\u001b[0m\n\u001b[0;32m---> 74\u001b[0;31m     \u001b[0mgraph\u001b[0m \u001b[0;34m=\u001b[0m \u001b[0mtf\u001b[0m\u001b[0;34m.\u001b[0m\u001b[0mget_default_graph\u001b[0m\u001b[0;34m(\u001b[0m\u001b[0;34m)\u001b[0m\u001b[0;34m\u001b[0m\u001b[0;34m\u001b[0m\u001b[0m\n\u001b[0m\u001b[1;32m     75\u001b[0m     \u001b[0;32mif\u001b[0m \u001b[0mgraph\u001b[0m \u001b[0;32mnot\u001b[0m \u001b[0;32min\u001b[0m \u001b[0m_GRAPH_UID_DICTS\u001b[0m\u001b[0;34m:\u001b[0m\u001b[0;34m\u001b[0m\u001b[0;34m\u001b[0m\u001b[0m\n\u001b[1;32m     76\u001b[0m         \u001b[0m_GRAPH_UID_DICTS\u001b[0m\u001b[0;34m[\u001b[0m\u001b[0mgraph\u001b[0m\u001b[0;34m]\u001b[0m \u001b[0;34m=\u001b[0m \u001b[0mdefaultdict\u001b[0m\u001b[0;34m(\u001b[0m\u001b[0mint\u001b[0m\u001b[0;34m)\u001b[0m\u001b[0;34m\u001b[0m\u001b[0;34m\u001b[0m\u001b[0m\n",
      "\u001b[0;31mAttributeError\u001b[0m: module 'tensorflow' has no attribute 'get_default_graph'"
     ]
    }
   ],
   "source": [
    "embedding_matrix = zeros((len(vocab), 300))\n",
    "for i,word in enumerate(vocab):\n",
    "    vec = w2v_dict.get(word)\n",
    "    if vec is not None:\n",
    "        embedding_matrix[i] = vec\n",
    "#e = Embedding(len(vocab), 100, weights=[embedding_matrix], input_length=4, trainable=False)\n"
   ]
  },
  {
   "cell_type": "code",
   "execution_count": 1,
   "metadata": {},
   "outputs": [
    {
     "ename": "AttributeError",
     "evalue": "'list' object has no attribute 'indexof'",
     "output_type": "error",
     "traceback": [
      "\u001b[0;31m---------------------------------------------------------------------------\u001b[0m",
      "\u001b[0;31mAttributeError\u001b[0m                            Traceback (most recent call last)",
      "\u001b[0;32m<ipython-input-1-5611ec384ad9>\u001b[0m in \u001b[0;36m<module>\u001b[0;34m\u001b[0m\n\u001b[1;32m      1\u001b[0m \u001b[0ma\u001b[0m \u001b[0;34m=\u001b[0m \u001b[0;34m[\u001b[0m\u001b[0;36m1\u001b[0m\u001b[0;34m,\u001b[0m\u001b[0;36m1\u001b[0m\u001b[0;34m,\u001b[0m\u001b[0;36m2\u001b[0m\u001b[0;34m,\u001b[0m\u001b[0;36m3\u001b[0m\u001b[0;34m,\u001b[0m\u001b[0;36m3\u001b[0m\u001b[0;34m,\u001b[0m\u001b[0;36m3\u001b[0m\u001b[0;34m,\u001b[0m\u001b[0;36m3\u001b[0m\u001b[0;34m,\u001b[0m\u001b[0;36m1\u001b[0m\u001b[0;34m,\u001b[0m\u001b[0;36m1\u001b[0m\u001b[0;34m,\u001b[0m\u001b[0;36m2\u001b[0m\u001b[0;34m,\u001b[0m\u001b[0;36m3\u001b[0m\u001b[0;34m,\u001b[0m\u001b[0;36m3\u001b[0m\u001b[0;34m,\u001b[0m\u001b[0;36m5\u001b[0m\u001b[0;34m,\u001b[0m\u001b[0;36m5\u001b[0m\u001b[0;34m,\u001b[0m\u001b[0;36m5\u001b[0m\u001b[0;34m,\u001b[0m\u001b[0;36m5\u001b[0m\u001b[0;34m,\u001b[0m\u001b[0;36m5\u001b[0m\u001b[0;34m]\u001b[0m\u001b[0;34m\u001b[0m\u001b[0;34m\u001b[0m\u001b[0m\n\u001b[0;32m----> 2\u001b[0;31m \u001b[0ma\u001b[0m\u001b[0;34m.\u001b[0m\u001b[0mindexof\u001b[0m\u001b[0;34m(\u001b[0m\u001b[0;36m5\u001b[0m\u001b[0;34m)\u001b[0m\u001b[0;34m\u001b[0m\u001b[0;34m\u001b[0m\u001b[0m\n\u001b[0m",
      "\u001b[0;31mAttributeError\u001b[0m: 'list' object has no attribute 'indexof'"
     ]
    }
   ],
   "source": [
    "a = [1,1,2,3,3,3,3,1,1,2,3,3,5,5,5,5,5]\n"
   ]
  },
  {
   "cell_type": "code",
   "execution_count": null,
   "metadata": {},
   "outputs": [],
   "source": []
  }
 ],
 "metadata": {
  "kernelspec": {
   "display_name": "Python 3",
   "language": "python",
   "name": "python3"
  },
  "language_info": {
   "codemirror_mode": {
    "name": "ipython",
    "version": 3
   },
   "file_extension": ".py",
   "mimetype": "text/x-python",
   "name": "python",
   "nbconvert_exporter": "python",
   "pygments_lexer": "ipython3",
   "version": "3.7.1"
  }
 },
 "nbformat": 4,
 "nbformat_minor": 2
}
